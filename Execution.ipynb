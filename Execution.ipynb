{
 "cells": [
  {
   "cell_type": "markdown",
   "metadata": {},
   "source": [
    "## GPTS TimeSformer on UWHVF dataset"
   ]
  },
  {
   "cell_type": "markdown",
   "metadata": {},
   "source": [
    "0. Import necessary packages"
   ]
  },
  {
   "cell_type": "code",
   "execution_count": 21,
   "metadata": {},
   "outputs": [],
   "source": [
    "import torch\n",
    "import torch.nn as nn\n",
    "import numpy as np\n",
    "import matplotlib.pyplot as plt\n",
    "import seaborn as sns\n",
    "from Dataloader import dataloaders\n",
    "from sklearn.metrics import confusion_matrix, accuracy_score"
   ]
  },
  {
   "cell_type": "markdown",
   "metadata": {},
   "source": [
    "1. Preprocess data with data_preprocessing.py"
   ]
  },
  {
   "cell_type": "code",
   "execution_count": 13,
   "metadata": {},
   "outputs": [
    {
     "name": "stdout",
     "output_type": "stream",
     "text": [
      "Length of prog_labellist, total number of subjects with 3+ frames: 2991\n",
      "Progressing number of subjects (1): 2200\n",
      "Data preprocessing complete!\n"
     ]
    }
   ],
   "source": [
    "%run data_preprocessing.py"
   ]
  },
  {
   "cell_type": "markdown",
   "metadata": {},
   "source": [
    "2. Set random seed for reproducability"
   ]
  },
  {
   "cell_type": "code",
   "execution_count": 14,
   "metadata": {},
   "outputs": [],
   "source": [
    "torch.manual_seed(42)\n",
    "np.random.seed(42)"
   ]
  },
  {
   "cell_type": "markdown",
   "metadata": {},
   "source": [
    "2. Define Dataset class and DataLoaders with Dataloader.py"
   ]
  },
  {
   "cell_type": "code",
   "execution_count": 15,
   "metadata": {},
   "outputs": [
    {
     "name": "stdout",
     "output_type": "stream",
     "text": [
      "Dataset and Dataloader complete!\n"
     ]
    }
   ],
   "source": [
    "%run Dataloader.py"
   ]
  },
  {
   "cell_type": "markdown",
   "metadata": {},
   "source": [
    "3. Define Model"
   ]
  },
  {
   "cell_type": "code",
   "execution_count": 16,
   "metadata": {},
   "outputs": [],
   "source": [
    "%run Model.py"
   ]
  },
  {
   "cell_type": "markdown",
   "metadata": {},
   "source": [
    "4. Make a folder to save model at the end of each epoch"
   ]
  },
  {
   "cell_type": "code",
   "execution_count": 17,
   "metadata": {},
   "outputs": [
    {
     "name": "stdout",
     "output_type": "stream",
     "text": [
      "mkdir: saved_models_GPTS: File exists\n"
     ]
    }
   ],
   "source": [
    "!mkdir saved_models_GPTS"
   ]
  },
  {
   "cell_type": "markdown",
   "metadata": {},
   "source": [
    "5. Define optimizer, create instance of model, and enter training/validation loop with training_func.py"
   ]
  },
  {
   "cell_type": "code",
   "execution_count": 18,
   "metadata": {},
   "outputs": [
    {
     "name": "stdout",
     "output_type": "stream",
     "text": [
      "Epoch: 0 | train_loss: 1.2803165364425784 | validation_loss: 0.7193799080948035\n",
      "Epoch: 1 | train_loss: 0.5317584000263433 | validation_loss: 0.7038710365692774\n",
      "Epoch: 2 | train_loss: 0.5226710496746424 | validation_loss: 0.8495045688003302\n",
      "Epoch: 3 | train_loss: 0.5176696583379783 | validation_loss: 0.6231267945220073\n",
      "Epoch: 4 | train_loss: 0.5113266294273803 | validation_loss: 0.6132440501203139\n",
      "Training accuracy average: 75.06 %\n",
      "Validation accuracy average: 63.34 %\n",
      "Training and validation complete!\n"
     ]
    }
   ],
   "source": [
    "%run training_func.py"
   ]
  },
  {
   "cell_type": "markdown",
   "metadata": {},
   "source": [
    "6. Run model with test data"
   ]
  },
  {
   "cell_type": "code",
   "execution_count": 24,
   "metadata": {},
   "outputs": [
    {
     "name": "stdout",
     "output_type": "stream",
     "text": [
      "Epoch: 0 | test_loss: 0.6658207654953003 \n",
      "Epoch: 1 | test_loss: 0.6658207654953003 \n",
      "Epoch: 2 | test_loss: 0.6658207654953003 \n",
      "Epoch: 3 | test_loss: 0.6658207654953003 \n",
      "Epoch: 4 | test_loss: 0.6658207654953003 \n",
      "Test accuracy average: 66.89 %\n"
     ]
    }
   ],
   "source": [
    "from Model import GPTS\n",
    "from torch.optim import SGD\n",
    "device = torch.device(\"cuda:0\" if torch.cuda.is_available() else \"cpu\")\n",
    "model = GPTS().to(device)\n",
    "optimizer = SGD(model.parameters(),lr=0.1)\n",
    "criterion = nn.BCEWithLogitsLoss()\n",
    "\n",
    "test_accuracy = []          # test accuracy per epoch\n",
    "test_epoch_loss = []        # test loss per epoch\n",
    "\n",
    "for epoch in range(5):\n",
    "    temp_loss = []\n",
    "    predict_labels = []\n",
    "    true_labels = [] \n",
    "    \n",
    "    model.eval()\n",
    "    \n",
    "    for index, (data, label) in enumerate(dataloaders['test']):\n",
    "        data = data.to(device)\n",
    "        label = label.unsqueeze(1).to(device)\n",
    "        \n",
    "        label_predicted = model(data.float())\n",
    "        \n",
    "        loss = criterion(label_predicted, label.float())\n",
    "        temp_loss.append(loss.data.item())\n",
    "        \n",
    "        preds_binary = (label_predicted>=0)\n",
    "        preds_binary_array = preds_binary.cpu().numpy()\n",
    "        labels_array = label.data.cpu().numpy()\n",
    "        \n",
    "        predict_labels.extend(preds_binary_array)\n",
    "        true_labels.extend(labels_array)\n",
    "    \n",
    "    test_epoch_loss.append(np.mean(temp_loss))\n",
    "    accuracy = accuracy_score(true_labels, predict_labels)\n",
    "    test_accuracy.append(accuracy)\n",
    "    \n",
    "    print(\"Epoch: {} | test_loss: {} \".format(epoch, test_epoch_loss[-1]))\n",
    "\n",
    "test_accuracy_avg = (sum(test_accuracy)/len(test_accuracy))*100     # avg test accuracy across all epochs\n",
    "print(\"Test accuracy average:\",round(test_accuracy_avg, 2),\"%\")\n"
   ]
  },
  {
   "cell_type": "markdown",
   "metadata": {},
   "source": [
    "7. Additional metrics (confusion matrix)"
   ]
  },
  {
   "cell_type": "code",
   "execution_count": 25,
   "metadata": {},
   "outputs": [
    {
     "data": {
      "text/plain": [
       "Text(0.5, 3.722222222222216, 'Predicted Labels')"
      ]
     },
     "execution_count": 25,
     "metadata": {},
     "output_type": "execute_result"
    },
    {
     "data": {
      "image/png": "[encoded data removed]",
      "text/plain": [
       "<Figure size 400x300 with 2 Axes>"
      ]
     },
     "metadata": {},
     "output_type": "display_data"
    }
   ],
   "source": [
    "CM_test_lastbatch = confusion_matrix(true_labels, predict_labels)\n",
    "plt.figure(figsize = (4,3))\n",
    "sns.heatmap(CM_test_lastbatch, annot = True, annot_kws = {\"size\": 10}, fmt='d')\n",
    "plt.ylabel('True Labels')\n",
    "plt.xlabel('Predicted Labels')"
   ]
  }
 ],
 "metadata": {
  "kernelspec": {
   "display_name": "Python 3.11.3 64-bit",
   "language": "python",
   "name": "python3"
  },
  "language_info": {
   "codemirror_mode": {
    "name": "ipython",
    "version": 3
   },
   "file_extension": ".py",
   "mimetype": "text/x-python",
   "name": "python",
   "nbconvert_exporter": "python",
   "pygments_lexer": "ipython3",
   "version": "3.11.3"
  },
  "orig_nbformat": 4,
  "vscode": {
   "interpreter": {
    "hash": "aee8b7b246df8f9039afb4144a1f6fd8d2ca17a180786b69acc140d282b71a49"
   }
  }
 },
 "nbformat": 4,
 "nbformat_minor": 2
}
